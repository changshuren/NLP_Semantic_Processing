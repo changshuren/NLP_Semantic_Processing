{
 "cells": [
  {
   "cell_type": "raw",
   "id": "freelance-naples",
   "metadata": {},
   "source": [
    "----------------------------------------------------------------------\n",
    "Filename : intro-to-wordnet.ipynb\n",
    "Author   : Jaidev Deshpande\n",
    "Purpose  : Understanding Wordnet functionalities\n",
    "Libraries: nltk\n",
    "----------------------------------------------------------------------"
   ]
  },
  {
   "cell_type": "markdown",
   "id": "anonymous-canadian",
   "metadata": {},
   "source": [
    "## [WordNet®](https://wordnet.princeton.edu/) Tutorial\n",
    "\n",
    "### Navigating Wornet Relationships"
   ]
  },
  {
   "cell_type": "code",
   "execution_count": 3,
   "id": "widespread-traveler",
   "metadata": {},
   "outputs": [
    {
     "name": "stdout",
     "output_type": "stream",
     "text": [
      "Requirement already satisfied: nltk in c:\\users\\isbe\\appdata\\local\\programs\\python\\python312\\lib\\site-packages (3.8.1)\n",
      "Requirement already satisfied: click in c:\\users\\isbe\\appdata\\local\\programs\\python\\python312\\lib\\site-packages (from nltk) (8.1.7)\n",
      "Requirement already satisfied: joblib in c:\\users\\isbe\\appdata\\local\\programs\\python\\python312\\lib\\site-packages (from nltk) (1.3.2)\n",
      "Requirement already satisfied: regex>=2021.8.3 in c:\\users\\isbe\\appdata\\local\\programs\\python\\python312\\lib\\site-packages (from nltk) (2023.10.3)\n",
      "Requirement already satisfied: tqdm in c:\\users\\isbe\\appdata\\local\\programs\\python\\python312\\lib\\site-packages (from nltk) (4.66.1)\n",
      "Requirement already satisfied: colorama in c:\\users\\isbe\\appdata\\roaming\\python\\python312\\site-packages (from click->nltk) (0.4.6)\n",
      "Note: you may need to restart the kernel to use updated packages.\n"
     ]
    }
   ],
   "source": [
    "%pip install nltk"
   ]
  },
  {
   "cell_type": "code",
   "execution_count": 10,
   "id": "vocational-clearance",
   "metadata": {},
   "outputs": [],
   "source": [
    "from nltk import download"
   ]
  },
  {
   "cell_type": "code",
   "execution_count": 11,
   "id": "sensitive-albany",
   "metadata": {},
   "outputs": [
    {
     "name": "stderr",
     "output_type": "stream",
     "text": [
      "[nltk_data] Downloading package wordnet to\n",
      "[nltk_data]     C:\\Users\\ISBE\\AppData\\Roaming\\nltk_data...\n",
      "[nltk_data]   Package wordnet is already up-to-date!\n"
     ]
    },
    {
     "data": {
      "text/plain": [
       "True"
      ]
     },
     "execution_count": 11,
     "metadata": {},
     "output_type": "execute_result"
    }
   ],
   "source": [
    "download('wordnet')"
   ]
  },
  {
   "cell_type": "code",
   "execution_count": 12,
   "id": "weird-memory",
   "metadata": {},
   "outputs": [],
   "source": [
    "from nltk.corpus import wordnet"
   ]
  },
  {
   "cell_type": "code",
   "execution_count": 13,
   "id": "developing-failure",
   "metadata": {},
   "outputs": [
    {
     "data": {
      "text/plain": [
       "[Synset('tractor.n.01'), Synset('tractor.n.02')]"
      ]
     },
     "execution_count": 13,
     "metadata": {},
     "output_type": "execute_result"
    }
   ],
   "source": [
    "# Synsets\n",
    "\n",
    "tractor = wordnet.synsets('tractor')\n",
    "tractor"
   ]
  },
  {
   "cell_type": "code",
   "execution_count": 14,
   "id": "seasonal-hungary",
   "metadata": {},
   "outputs": [
    {
     "data": {
      "text/plain": [
       "['a wheeled vehicle with large wheels; used in farming and other applications',\n",
       " 'a truck that has a cab but no body; used for pulling large trailers or vans']"
      ]
     },
     "execution_count": 14,
     "metadata": {},
     "output_type": "execute_result"
    }
   ],
   "source": [
    "# Definitions of senses\n",
    "\n",
    "[syn.definition() for syn in tractor]"
   ]
  },
  {
   "cell_type": "code",
   "execution_count": 17,
   "id": "51f5731d",
   "metadata": {},
   "outputs": [
    {
     "data": {
      "text/plain": [
       "[Synset('sister.n.01'),\n",
       " Synset('sister.n.02'),\n",
       " Synset('sister.n.03'),\n",
       " Synset('baby.n.05')]"
      ]
     },
     "execution_count": 17,
     "metadata": {},
     "output_type": "execute_result"
    }
   ],
   "source": [
    "# Synsets\n",
    "\n",
    "sister = wordnet.synsets('sister')\n",
    "sister"
   ]
  },
  {
   "cell_type": "code",
   "execution_count": 18,
   "id": "4e26d422",
   "metadata": {},
   "outputs": [
    {
     "data": {
      "text/plain": [
       "['a female person who has the same parents as another person',\n",
       " '(Roman Catholic Church) a title given to a nun (and used as a form of address)',\n",
       " 'a female person who is a fellow member of a sorority or labor union or other group',\n",
       " '(slang) sometimes used as a term of address for attractive young women']"
      ]
     },
     "execution_count": 18,
     "metadata": {},
     "output_type": "execute_result"
    }
   ],
   "source": [
    "# Definitions of senses\n",
    "\n",
    "[syn.definition() for syn in sister]"
   ]
  },
  {
   "cell_type": "code",
   "execution_count": 19,
   "id": "active-norwegian",
   "metadata": {},
   "outputs": [
    {
     "data": {
      "text/plain": [
       "[Synset('self-propelled_vehicle.n.01')]"
      ]
     },
     "execution_count": 19,
     "metadata": {},
     "output_type": "execute_result"
    }
   ],
   "source": [
    "# Hypernyms: Relation between a concept and its superordinate\n",
    "\n",
    "tractor = wordnet.synset('tractor.n.01')\n",
    "tractor.hypernyms()"
   ]
  },
  {
   "cell_type": "code",
   "execution_count": 20,
   "id": "arctic-customer",
   "metadata": {},
   "outputs": [
    {
     "data": {
      "text/plain": [
       "[Synset('wheeled_vehicle.n.01')]"
      ]
     },
     "execution_count": 20,
     "metadata": {},
     "output_type": "execute_result"
    }
   ],
   "source": [
    "self_propelled_vehicle = wordnet.synset('self-propelled_vehicle.n.01')\n",
    "self_propelled_vehicle.hypernyms()"
   ]
  },
  {
   "cell_type": "code",
   "execution_count": 21,
   "id": "invalid-lease",
   "metadata": {},
   "outputs": [
    {
     "data": {
      "text/plain": [
       "[Synset('axle.n.01'),\n",
       " Synset('brake.n.01'),\n",
       " Synset('splasher.n.01'),\n",
       " Synset('wheel.n.01')]"
      ]
     },
     "execution_count": 21,
     "metadata": {},
     "output_type": "execute_result"
    }
   ],
   "source": [
    "# Meronyms: Relation between a part and its whole\n",
    "\n",
    "wheeled_vehicle = wordnet.synset('wheeled_vehicle.n.01')\n",
    "wheeled_vehicle.part_meronyms()"
   ]
  },
  {
   "cell_type": "code",
   "execution_count": 22,
   "id": "brown-weekend",
   "metadata": {},
   "outputs": [
    {
     "data": {
      "text/plain": [
       "[Synset('baby_buggy.n.01'),\n",
       " Synset('bicycle.n.01'),\n",
       " Synset('boneshaker.n.01'),\n",
       " Synset('car.n.02'),\n",
       " Synset('handcart.n.01'),\n",
       " Synset('horse-drawn_vehicle.n.01'),\n",
       " Synset('motor_scooter.n.01'),\n",
       " Synset('rolling_stock.n.01'),\n",
       " Synset('scooter.n.02'),\n",
       " Synset('self-propelled_vehicle.n.01'),\n",
       " Synset('skateboard.n.01'),\n",
       " Synset('trailer.n.04'),\n",
       " Synset('tricycle.n.01'),\n",
       " Synset('unicycle.n.01'),\n",
       " Synset('wagon.n.01'),\n",
       " Synset('wagon.n.04'),\n",
       " Synset('welcome_wagon.n.01')]"
      ]
     },
     "execution_count": 22,
     "metadata": {},
     "output_type": "execute_result"
    }
   ],
   "source": [
    "# Hyponyms: Relation between a concept and its subordinate\n",
    "\n",
    "wheeled_vehicle.hyponyms()"
   ]
  },
  {
   "cell_type": "code",
   "execution_count": 23,
   "id": "theoretical-bargain",
   "metadata": {},
   "outputs": [
    {
     "data": {
      "text/plain": [
       "[Synset('wheeled_vehicle.n.01')]"
      ]
     },
     "execution_count": 23,
     "metadata": {},
     "output_type": "execute_result"
    }
   ],
   "source": [
    "# Holonyms: Relation between whole and its parts\n",
    "\n",
    "axle = wordnet.synset('axle.n.01')\n",
    "axle.part_holonyms()"
   ]
  },
  {
   "cell_type": "code",
   "execution_count": 24,
   "id": "identical-shoulder",
   "metadata": {},
   "outputs": [
    {
     "data": {
      "text/plain": [
       "[Synset('armored_vehicle.n.01'),\n",
       " Synset('carrier.n.02'),\n",
       " Synset('forklift.n.01'),\n",
       " Synset('locomotive.n.01'),\n",
       " Synset('motor_vehicle.n.01'),\n",
       " Synset('personnel_carrier.n.01'),\n",
       " Synset('reconnaissance_vehicle.n.01'),\n",
       " Synset('recreational_vehicle.n.01'),\n",
       " Synset('streetcar.n.01'),\n",
       " Synset('tracked_vehicle.n.01'),\n",
       " Synset('tractor.n.01'),\n",
       " Synset('weapons_carrier.n.01')]"
      ]
     },
     "execution_count": 24,
     "metadata": {},
     "output_type": "execute_result"
    }
   ],
   "source": [
    "self_propelled_vehicle.hyponyms()"
   ]
  },
  {
   "cell_type": "code",
   "execution_count": 25,
   "id": "quick-strengthening",
   "metadata": {},
   "outputs": [
    {
     "data": {
      "text/plain": [
       "[Synset('amphibian.n.01'),\n",
       " Synset('bloodmobile.n.01'),\n",
       " Synset('car.n.01'),\n",
       " Synset('doodlebug.n.01'),\n",
       " Synset('four-wheel_drive.n.01'),\n",
       " Synset('go-kart.n.01'),\n",
       " Synset('golfcart.n.01'),\n",
       " Synset('hearse.n.01'),\n",
       " Synset('motorcycle.n.01'),\n",
       " Synset('snowplow.n.01'),\n",
       " Synset('truck.n.01')]"
      ]
     },
     "execution_count": 25,
     "metadata": {},
     "output_type": "execute_result"
    }
   ],
   "source": [
    "motor_vehicle = wordnet.synset('motor_vehicle.n.01')\n",
    "motor_vehicle.hyponyms()"
   ]
  },
  {
   "cell_type": "code",
   "execution_count": null,
   "id": "egyptian-appliance",
   "metadata": {},
   "outputs": [],
   "source": [
    "car = wordnet.synset('car.n.01')\n",
    "car.part_meronyms()"
   ]
  },
  {
   "cell_type": "code",
   "execution_count": null,
   "id": "civic-worst",
   "metadata": {},
   "outputs": [],
   "source": []
  }
 ],
 "metadata": {
  "kernelspec": {
   "display_name": "Python 3",
   "language": "python",
   "name": "python3"
  },
  "language_info": {
   "codemirror_mode": {
    "name": "ipython",
    "version": 3
   },
   "file_extension": ".py",
   "mimetype": "text/x-python",
   "name": "python",
   "nbconvert_exporter": "python",
   "pygments_lexer": "ipython3",
   "version": "3.12.0"
  }
 },
 "nbformat": 4,
 "nbformat_minor": 5
}
