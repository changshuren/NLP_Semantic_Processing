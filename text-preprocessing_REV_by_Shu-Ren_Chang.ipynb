{
 "cells": [
  {
   "cell_type": "markdown",
   "id": "tracked-cookie",
   "metadata": {},
   "source": [
    "# Text Preprocessing with Keras"
   ]
  },
  {
   "cell_type": "code",
   "execution_count": 83,
   "id": "19775f9a",
   "metadata": {},
   "outputs": [],
   "source": [
    "#conda install -c conda-forge tensorflow"
   ]
  },
  {
   "cell_type": "code",
   "execution_count": 84,
   "id": "ef9b7997",
   "metadata": {},
   "outputs": [],
   "source": [
    "#pip install tensorflow --ignore-installed --user"
   ]
  },
  {
   "cell_type": "code",
   "execution_count": 85,
   "id": "5db1780c",
   "metadata": {},
   "outputs": [],
   "source": [
    "#pip install tensorflow --user"
   ]
  },
  {
   "cell_type": "code",
   "execution_count": 86,
   "id": "potential-brunswick",
   "metadata": {},
   "outputs": [
    {
     "ename": "ModuleNotFoundError",
     "evalue": "No module named 'tsensor'",
     "output_type": "error",
     "traceback": [
      "\u001b[1;31m---------------------------------------------------------------------------\u001b[0m",
      "\u001b[1;31mModuleNotFoundError\u001b[0m                       Traceback (most recent call last)",
      "Cell \u001b[1;32mIn[86], line 7\u001b[0m\n\u001b[0;32m      5\u001b[0m \u001b[38;5;28;01mfrom\u001b[39;00m \u001b[38;5;21;01mtensorflow\u001b[39;00m\u001b[38;5;21;01m.\u001b[39;00m\u001b[38;5;21;01mkeras\u001b[39;00m\u001b[38;5;21;01m.\u001b[39;00m\u001b[38;5;21;01mlayers\u001b[39;00m \u001b[38;5;28;01mimport\u001b[39;00m Embedding, GlobalAveragePooling1D\n\u001b[0;32m      6\u001b[0m \u001b[38;5;28;01mimport\u001b[39;00m \u001b[38;5;21;01mnumpy\u001b[39;00m \u001b[38;5;28;01mas\u001b[39;00m \u001b[38;5;21;01mnp\u001b[39;00m\n\u001b[1;32m----> 7\u001b[0m \u001b[38;5;28;01mimport\u001b[39;00m \u001b[38;5;21;01mtsensor\u001b[39;00m\n",
      "\u001b[1;31mModuleNotFoundError\u001b[0m: No module named 'tsensor'"
     ]
    }
   ],
   "source": [
    "# importing libraries\n",
    "\n",
    "from tensorflow.keras.preprocessing.sequence import pad_sequences\n",
    "from tensorflow.keras.preprocessing.text import Tokenizer\n",
    "from tensorflow.keras.layers import Embedding, GlobalAveragePooling1D\n",
    "import numpy as np\n",
    "import tsensor\n"
   ]
  },
  {
   "cell_type": "markdown",
   "id": "certain-vessel",
   "metadata": {},
   "source": [
    "## Tokenization"
   ]
  },
  {
   "cell_type": "code",
   "execution_count": null,
   "id": "racial-detector",
   "metadata": {},
   "outputs": [],
   "source": [
    "# Tokenising sentences\n",
    "sentences = [\n",
    "    'The quick brown fox jumps over the lazy dog.'\n",
    "]\n",
    "tokenizer = Tokenizer()\n",
    "tokenizer.fit_on_texts(sentences)"
   ]
  },
  {
   "cell_type": "code",
   "execution_count": null,
   "id": "aboriginal-world",
   "metadata": {},
   "outputs": [
    {
     "data": {
      "text/plain": [
       "{'the': 1,\n",
       " 'quick': 2,\n",
       " 'brown': 3,\n",
       " 'fox': 4,\n",
       " 'jumps': 5,\n",
       " 'over': 6,\n",
       " 'lazy': 7,\n",
       " 'dog': 8}"
      ]
     },
     "execution_count": 67,
     "metadata": {},
     "output_type": "execute_result"
    }
   ],
   "source": [
    "tokenizer.word_index"
   ]
  },
  {
   "cell_type": "code",
   "execution_count": null,
   "id": "certified-administrator",
   "metadata": {},
   "outputs": [
    {
     "name": "stdout",
     "output_type": "stream",
     "text": [
      "[[1 2 3 4 5 6 1 7 8]]\n"
     ]
    }
   ],
   "source": [
    "train_sequence = tokenizer.texts_to_sequences(sentences)\n",
    "train_sequence = np.array(train_sequence)\n",
    "print(train_sequence)"
   ]
  },
  {
   "cell_type": "markdown",
   "id": "protecting-three",
   "metadata": {},
   "source": [
    "## Creating Embedding Layer"
   ]
  },
  {
   "cell_type": "code",
   "execution_count": null,
   "id": "green-reviewer",
   "metadata": {},
   "outputs": [],
   "source": [
    "# Create a random embedding layer\n",
    "\n",
    "embedding = Embedding(input_dim=len(train_sequence[0]), output_dim=128)"
   ]
  },
  {
   "cell_type": "code",
   "execution_count": null,
   "id": "congressional-journey",
   "metadata": {},
   "outputs": [],
   "source": [
    "# Get the embeddings of the train sample\n",
    "\n",
    "train_sample = embedding(train_sequence)"
   ]
  },
  {
   "cell_type": "code",
   "execution_count": null,
   "id": "dressed-roulette",
   "metadata": {},
   "outputs": [
    {
     "data": {
      "text/plain": [
       "(1, 9)"
      ]
     },
     "execution_count": 71,
     "metadata": {},
     "output_type": "execute_result"
    }
   ],
   "source": [
    "train_sequence.shape"
   ]
  },
  {
   "cell_type": "code",
   "execution_count": null,
   "id": "restricted-temperature",
   "metadata": {},
   "outputs": [
    {
     "data": {
      "text/plain": [
       "TensorShape([1, 9, 128])"
      ]
     },
     "execution_count": 72,
     "metadata": {},
     "output_type": "execute_result"
    }
   ],
   "source": [
    "train_sample.shape"
   ]
  },
  {
   "cell_type": "code",
   "execution_count": null,
   "id": "swedish-folks",
   "metadata": {},
   "outputs": [
    {
     "ename": "AttributeError",
     "evalue": "module 'tensorflow' has no attribute 'explain'",
     "output_type": "error",
     "traceback": [
      "\u001b[1;31m---------------------------------------------------------------------------\u001b[0m",
      "\u001b[1;31mAttributeError\u001b[0m                            Traceback (most recent call last)",
      "Cell \u001b[1;32mIn[73], line 1\u001b[0m\n\u001b[1;32m----> 1\u001b[0m \u001b[38;5;28;01mwith\u001b[39;00m tsensor\u001b[38;5;241m.\u001b[39mexplain(fontname\u001b[38;5;241m=\u001b[39m\u001b[38;5;124m'\u001b[39m\u001b[38;5;124mHack\u001b[39m\u001b[38;5;124m'\u001b[39m, dimfontname\u001b[38;5;241m=\u001b[39m\u001b[38;5;124m'\u001b[39m\u001b[38;5;124mHack\u001b[39m\u001b[38;5;124m'\u001b[39m):\n\u001b[0;32m      2\u001b[0m     train_sample \u001b[38;5;241m=\u001b[39m embedding(train_sequence)\n",
      "\u001b[1;31mAttributeError\u001b[0m: module 'tensorflow' has no attribute 'explain'"
     ]
    }
   ],
   "source": [
    "with tsensor.explain(fontname='Hack', dimfontname='Hack'):\n",
    "    train_sample = embedding(train_sequence)"
   ]
  },
  {
   "cell_type": "code",
   "execution_count": null,
   "id": "falling-woman",
   "metadata": {},
   "outputs": [
    {
     "data": {
      "text/plain": [
       "<tf.Tensor: shape=(9, 128), dtype=float32, numpy=\n",
       "array([[-0.02754259, -0.00622163,  0.01395966, ...,  0.02350713,\n",
       "        -0.02449713, -0.03975808],\n",
       "       [ 0.03644684, -0.02320917, -0.02154242, ...,  0.03704382,\n",
       "         0.02428811,  0.01571624],\n",
       "       [-0.03918707, -0.00645021, -0.01573436, ...,  0.00229568,\n",
       "         0.03425712,  0.03940317],\n",
       "       ...,\n",
       "       [-0.02754259, -0.00622163,  0.01395966, ...,  0.02350713,\n",
       "        -0.02449713, -0.03975808],\n",
       "       [ 0.0080936 ,  0.02572003, -0.02612194, ...,  0.02001256,\n",
       "         0.01147754, -0.01811665],\n",
       "       [-0.00085966,  0.01514722, -0.04220143, ..., -0.00865097,\n",
       "         0.01689402, -0.01373191]], dtype=float32)>"
      ]
     },
     "execution_count": 28,
     "metadata": {},
     "output_type": "execute_result"
    }
   ],
   "source": [
    "train_sample[0]"
   ]
  },
  {
   "cell_type": "markdown",
   "id": "figured-flood",
   "metadata": {},
   "source": [
    "## Averaging across tokens"
   ]
  },
  {
   "cell_type": "code",
   "execution_count": null,
   "id": "artificial-calgary",
   "metadata": {},
   "outputs": [
    {
     "data": {
      "text/plain": [
       "<tf.Tensor: shape=(1, 128), dtype=float32, numpy=\n",
       "array([[-0.00755447,  0.00638426, -0.00048863,  0.00334065,  0.01660661,\n",
       "        -0.01373461,  0.00454175, -0.00855707,  0.00276748, -0.00557863,\n",
       "        -0.00344877,  0.00337631, -0.00176419, -0.01563725,  0.00422146,\n",
       "        -0.00960024, -0.00052694, -0.002578  ,  0.00889957, -0.00852455,\n",
       "         0.01651548,  0.01202281,  0.0046281 , -0.01135564, -0.01165041,\n",
       "        -0.00187996,  0.00624368,  0.00379701,  0.00149153, -0.03422722,\n",
       "         0.00485646, -0.00706385,  0.00679624,  0.01282168,  0.01323583,\n",
       "        -0.013819  ,  0.00361721,  0.00443395, -0.01033955,  0.00320042,\n",
       "         0.01193966,  0.01031262, -0.00589713, -0.00364272, -0.00298244,\n",
       "         0.01321912,  0.00921641,  0.00424303,  0.01250464, -0.0076866 ,\n",
       "        -0.00703624,  0.01517027,  0.00675028,  0.00272987, -0.00418889,\n",
       "         0.01971414, -0.00696675, -0.01278776, -0.00327972,  0.00908293,\n",
       "        -0.0087077 , -0.01367136,  0.00418269,  0.01186581,  0.00475907,\n",
       "         0.0072061 ,  0.00670024,  0.00024124, -0.01025913, -0.00982038,\n",
       "        -0.01377818,  0.02256163, -0.00973149, -0.0133265 ,  0.00907113,\n",
       "         0.00594546, -0.0100766 ,  0.00724069, -0.00060353, -0.00710246,\n",
       "        -0.0180546 ,  0.00630697,  0.00212056, -0.00120644,  0.00984371,\n",
       "         0.01801381,  0.0027616 ,  0.01217135,  0.00509186,  0.00614732,\n",
       "        -0.01695424,  0.00187669, -0.02177431, -0.00151275,  0.00678186,\n",
       "         0.00524391,  0.0013853 , -0.02186394,  0.01724317, -0.00126466,\n",
       "        -0.00504563,  0.01681773, -0.00433691,  0.00655452,  0.00240136,\n",
       "         0.01891566, -0.02213062,  0.00152559, -0.00091329, -0.00093946,\n",
       "         0.01907846,  0.01285803,  0.02381099,  0.00420631,  0.00595998,\n",
       "         0.00072628, -0.00310352, -0.01527789, -0.00231265, -0.00360789,\n",
       "        -0.00686737, -0.00604434, -0.0140824 ,  0.00233481, -0.01153205,\n",
       "         0.00578916,  0.00190581, -0.01652732]], dtype=float32)>"
      ]
     },
     "execution_count": 29,
     "metadata": {},
     "output_type": "execute_result"
    }
   ],
   "source": [
    "GlobalAveragePooling1D()(train_sample)"
   ]
  },
  {
   "cell_type": "markdown",
   "id": "unavailable-investment",
   "metadata": {},
   "source": [
    "![](images/Emb6.png)"
   ]
  },
  {
   "cell_type": "code",
   "execution_count": null,
   "id": "southwest-castle",
   "metadata": {},
   "outputs": [
    {
     "ename": "AttributeError",
     "evalue": "module 'tensorflow' has no attribute 'explain'",
     "output_type": "error",
     "traceback": [
      "\u001b[1;31m---------------------------------------------------------------------------\u001b[0m",
      "\u001b[1;31mAttributeError\u001b[0m                            Traceback (most recent call last)",
      "Cell \u001b[1;32mIn[74], line 1\u001b[0m\n\u001b[1;32m----> 1\u001b[0m \u001b[38;5;28;01mwith\u001b[39;00m tsensor\u001b[38;5;241m.\u001b[39mexplain(fontname\u001b[38;5;241m=\u001b[39m\u001b[38;5;124m'\u001b[39m\u001b[38;5;124mHack\u001b[39m\u001b[38;5;124m'\u001b[39m, dimfontname\u001b[38;5;241m=\u001b[39m\u001b[38;5;124m'\u001b[39m\u001b[38;5;124mHack\u001b[39m\u001b[38;5;124m'\u001b[39m):\n\u001b[0;32m      2\u001b[0m     z \u001b[38;5;241m=\u001b[39m GlobalAveragePooling1D()(train_sample)\n",
      "\u001b[1;31mAttributeError\u001b[0m: module 'tensorflow' has no attribute 'explain'"
     ]
    }
   ],
   "source": [
    "with tsensor.explain(fontname='Hack', dimfontname='Hack'):\n",
    "    z = GlobalAveragePooling1D()(train_sample)"
   ]
  },
  {
   "cell_type": "markdown",
   "id": "parental-updating",
   "metadata": {},
   "source": [
    "## Creating Word Embeddings for more than one sentence"
   ]
  },
  {
   "cell_type": "code",
   "execution_count": null,
   "id": "southeast-surface",
   "metadata": {},
   "outputs": [
    {
     "name": "stdout",
     "output_type": "stream",
     "text": [
      "The quick brown fox jumps over the lazy dog. [1, 2, 3, 4, 5, 6, 1, 7, 8]\n",
      "The quick brown fox. [1, 2, 3, 4]\n",
      "The lazy dog. [1, 7, 8]\n",
      "The dog. [1, 8]\n",
      "Dog and the fox. [8, 1, 4]\n",
      "Hello, world! []\n"
     ]
    }
   ],
   "source": [
    "# More than one sentence\n",
    "\n",
    "test_corpus = [\n",
    "    'The quick brown fox jumps over the lazy dog.',\n",
    "    'The quick brown fox.',\n",
    "    'The lazy dog.',\n",
    "    'The dog.',\n",
    "    'Dog and the fox.',\n",
    "    'Hello, world!'\n",
    "]\n",
    "encoded_sentences = tokenizer.texts_to_sequences(test_corpus)\n",
    "for sentence, encoded_sentence in zip(test_corpus, encoded_sentences):\n",
    "    print(sentence, encoded_sentence)"
   ]
  },
  {
   "cell_type": "markdown",
   "id": "amino-newark",
   "metadata": {},
   "source": [
    "## Padding Sequences"
   ]
  },
  {
   "cell_type": "code",
   "execution_count": null,
   "id": "insured-dragon",
   "metadata": {},
   "outputs": [
    {
     "data": {
      "text/plain": [
       "[9, 4, 3, 2, 3, 0]"
      ]
     },
     "execution_count": 32,
     "metadata": {},
     "output_type": "execute_result"
    }
   ],
   "source": [
    "# Length of each sentence in the corpus\n",
    "\n",
    "[len(sentence) for sentence in encoded_sentences]"
   ]
  },
  {
   "cell_type": "code",
   "execution_count": null,
   "id": "overall-powder",
   "metadata": {},
   "outputs": [
    {
     "data": {
      "text/plain": [
       "9"
      ]
     },
     "execution_count": 33,
     "metadata": {},
     "output_type": "execute_result"
    }
   ],
   "source": [
    "# Length of the longest sentence\n",
    "\n",
    "max([len(sentence) for sentence in encoded_sentences])"
   ]
  },
  {
   "cell_type": "code",
   "execution_count": null,
   "id": "reported-vegetable",
   "metadata": {},
   "outputs": [],
   "source": [
    "MAX_SEQUENCE_LENGTH = 9"
   ]
  },
  {
   "cell_type": "code",
   "execution_count": null,
   "id": "identified-theorem",
   "metadata": {},
   "outputs": [
    {
     "data": {
      "text/plain": [
       "array([[1, 2, 3, 4, 5, 6, 1, 7, 8],\n",
       "       [0, 0, 0, 0, 0, 1, 2, 3, 4],\n",
       "       [0, 0, 0, 0, 0, 0, 1, 7, 8],\n",
       "       [0, 0, 0, 0, 0, 0, 0, 1, 8],\n",
       "       [0, 0, 0, 0, 0, 0, 8, 1, 4],\n",
       "       [0, 0, 0, 0, 0, 0, 0, 0, 0]])"
      ]
     },
     "execution_count": 35,
     "metadata": {},
     "output_type": "execute_result"
    }
   ],
   "source": [
    "# Padding sequences that are shorter than the longest sequence\n",
    "\n",
    "X = pad_sequences(encoded_sentences, maxlen=MAX_SEQUENCE_LENGTH)\n",
    "X"
   ]
  },
  {
   "cell_type": "markdown",
   "id": "isolated-moderator",
   "metadata": {},
   "source": [
    "## Embedding Layer"
   ]
  },
  {
   "cell_type": "code",
   "execution_count": null,
   "id": "interracial-skirt",
   "metadata": {},
   "outputs": [
    {
     "data": {
      "text/plain": [
       "(6, 9)"
      ]
     },
     "execution_count": 36,
     "metadata": {},
     "output_type": "execute_result"
    }
   ],
   "source": [
    "# Training data with more than 1 sentences\n",
    "\n",
    "X.shape"
   ]
  },
  {
   "cell_type": "code",
   "execution_count": null,
   "id": "instrumental-antibody",
   "metadata": {},
   "outputs": [],
   "source": [
    "# Embeddings of the larger corpus\n",
    "\n",
    "X_embedded = embedding(X)"
   ]
  },
  {
   "cell_type": "code",
   "execution_count": null,
   "id": "official-insight",
   "metadata": {},
   "outputs": [
    {
     "data": {
      "text/plain": [
       "TensorShape([6, 9, 128])"
      ]
     },
     "execution_count": 40,
     "metadata": {},
     "output_type": "execute_result"
    }
   ],
   "source": [
    "X_embedded.shape"
   ]
  },
  {
   "cell_type": "code",
   "execution_count": null,
   "id": "organized-sleep",
   "metadata": {},
   "outputs": [
    {
     "data": {
      "text/plain": [
       "<tf.Tensor: shape=(6, 9, 128), dtype=float32, numpy=\n",
       "array([[[-0.02754259, -0.00622163,  0.01395966, ...,  0.02350713,\n",
       "         -0.02449713, -0.03975808],\n",
       "        [ 0.03644684, -0.02320917, -0.02154242, ...,  0.03704382,\n",
       "          0.02428811,  0.01571624],\n",
       "        [-0.03918707, -0.00645021, -0.01573436, ...,  0.00229568,\n",
       "          0.03425712,  0.03940317],\n",
       "        ...,\n",
       "        [-0.02754259, -0.00622163,  0.01395966, ...,  0.02350713,\n",
       "         -0.02449713, -0.03975808],\n",
       "        [ 0.0080936 ,  0.02572003, -0.02612194, ...,  0.02001256,\n",
       "          0.01147754, -0.01811665],\n",
       "        [-0.00085966,  0.01514722, -0.04220143, ..., -0.00865097,\n",
       "          0.01689402, -0.01373191]],\n",
       "\n",
       "       [[-0.04908931, -0.00467245, -0.02280524, ...,  0.04522233,\n",
       "         -0.04453618,  0.01031039],\n",
       "        [-0.04908931, -0.00467245, -0.02280524, ...,  0.04522233,\n",
       "         -0.04453618,  0.01031039],\n",
       "        [-0.04908931, -0.00467245, -0.02280524, ...,  0.04522233,\n",
       "         -0.04453618,  0.01031039],\n",
       "        ...,\n",
       "        [ 0.03644684, -0.02320917, -0.02154242, ...,  0.03704382,\n",
       "          0.02428811,  0.01571624],\n",
       "        [-0.03918707, -0.00645021, -0.01573436, ...,  0.00229568,\n",
       "          0.03425712,  0.03940317],\n",
       "        [ 0.00094831,  0.02246389,  0.00559633, ..., -0.01506597,\n",
       "         -0.00016861, -0.03799219]],\n",
       "\n",
       "       [[-0.04908931, -0.00467245, -0.02280524, ...,  0.04522233,\n",
       "         -0.04453618,  0.01031039],\n",
       "        [-0.04908931, -0.00467245, -0.02280524, ...,  0.04522233,\n",
       "         -0.04453618,  0.01031039],\n",
       "        [-0.04908931, -0.00467245, -0.02280524, ...,  0.04522233,\n",
       "         -0.04453618,  0.01031039],\n",
       "        ...,\n",
       "        [-0.02754259, -0.00622163,  0.01395966, ...,  0.02350713,\n",
       "         -0.02449713, -0.03975808],\n",
       "        [ 0.0080936 ,  0.02572003, -0.02612194, ...,  0.02001256,\n",
       "          0.01147754, -0.01811665],\n",
       "        [-0.00085966,  0.01514722, -0.04220143, ..., -0.00865097,\n",
       "          0.01689402, -0.01373191]],\n",
       "\n",
       "       [[-0.04908931, -0.00467245, -0.02280524, ...,  0.04522233,\n",
       "         -0.04453618,  0.01031039],\n",
       "        [-0.04908931, -0.00467245, -0.02280524, ...,  0.04522233,\n",
       "         -0.04453618,  0.01031039],\n",
       "        [-0.04908931, -0.00467245, -0.02280524, ...,  0.04522233,\n",
       "         -0.04453618,  0.01031039],\n",
       "        ...,\n",
       "        [-0.04908931, -0.00467245, -0.02280524, ...,  0.04522233,\n",
       "         -0.04453618,  0.01031039],\n",
       "        [-0.02754259, -0.00622163,  0.01395966, ...,  0.02350713,\n",
       "         -0.02449713, -0.03975808],\n",
       "        [-0.00085966,  0.01514722, -0.04220143, ..., -0.00865097,\n",
       "          0.01689402, -0.01373191]],\n",
       "\n",
       "       [[-0.04908931, -0.00467245, -0.02280524, ...,  0.04522233,\n",
       "         -0.04453618,  0.01031039],\n",
       "        [-0.04908931, -0.00467245, -0.02280524, ...,  0.04522233,\n",
       "         -0.04453618,  0.01031039],\n",
       "        [-0.04908931, -0.00467245, -0.02280524, ...,  0.04522233,\n",
       "         -0.04453618,  0.01031039],\n",
       "        ...,\n",
       "        [-0.00085966,  0.01514722, -0.04220143, ..., -0.00865097,\n",
       "          0.01689402, -0.01373191],\n",
       "        [-0.02754259, -0.00622163,  0.01395966, ...,  0.02350713,\n",
       "         -0.02449713, -0.03975808],\n",
       "        [ 0.00094831,  0.02246389,  0.00559633, ..., -0.01506597,\n",
       "         -0.00016861, -0.03799219]],\n",
       "\n",
       "       [[-0.04908931, -0.00467245, -0.02280524, ...,  0.04522233,\n",
       "         -0.04453618,  0.01031039],\n",
       "        [-0.04908931, -0.00467245, -0.02280524, ...,  0.04522233,\n",
       "         -0.04453618,  0.01031039],\n",
       "        [-0.04908931, -0.00467245, -0.02280524, ...,  0.04522233,\n",
       "         -0.04453618,  0.01031039],\n",
       "        ...,\n",
       "        [-0.04908931, -0.00467245, -0.02280524, ...,  0.04522233,\n",
       "         -0.04453618,  0.01031039],\n",
       "        [-0.04908931, -0.00467245, -0.02280524, ...,  0.04522233,\n",
       "         -0.04453618,  0.01031039],\n",
       "        [-0.04908931, -0.00467245, -0.02280524, ...,  0.04522233,\n",
       "         -0.04453618,  0.01031039]]], dtype=float32)>"
      ]
     },
     "execution_count": 41,
     "metadata": {},
     "output_type": "execute_result"
    }
   ],
   "source": [
    "X_embedded"
   ]
  },
  {
   "cell_type": "code",
   "execution_count": 87,
   "id": "caroline-exhaust",
   "metadata": {},
   "outputs": [
    {
     "ename": "AttributeError",
     "evalue": "module 'tensorflow' has no attribute 'explain'",
     "output_type": "error",
     "traceback": [
      "\u001b[1;31m---------------------------------------------------------------------------\u001b[0m",
      "\u001b[1;31mAttributeError\u001b[0m                            Traceback (most recent call last)",
      "Cell \u001b[1;32mIn[87], line 1\u001b[0m\n\u001b[1;32m----> 1\u001b[0m \u001b[38;5;28;01mwith\u001b[39;00m tsensor\u001b[38;5;241m.\u001b[39mexplain(fontname\u001b[38;5;241m=\u001b[39m\u001b[38;5;124m'\u001b[39m\u001b[38;5;124mHack\u001b[39m\u001b[38;5;124m'\u001b[39m, dimfontname\u001b[38;5;241m=\u001b[39m\u001b[38;5;124m'\u001b[39m\u001b[38;5;124mHack\u001b[39m\u001b[38;5;124m'\u001b[39m):\n\u001b[0;32m      2\u001b[0m     x_em \u001b[38;5;241m=\u001b[39m embedding(X)\n",
      "\u001b[1;31mAttributeError\u001b[0m: module 'tensorflow' has no attribute 'explain'"
     ]
    }
   ],
   "source": [
    "with tsensor.explain(fontname='Hack', dimfontname='Hack'):\n",
    "    x_em = embedding(X)"
   ]
  },
  {
   "cell_type": "code",
   "execution_count": null,
   "id": "continental-comfort",
   "metadata": {},
   "outputs": [
    {
     "data": {
      "text/plain": [
       "(6, 9)"
      ]
     },
     "execution_count": 52,
     "metadata": {},
     "output_type": "execute_result"
    }
   ],
   "source": [
    "X.shape"
   ]
  },
  {
   "cell_type": "code",
   "execution_count": null,
   "id": "derived-pregnancy",
   "metadata": {},
   "outputs": [
    {
     "ename": "NameError",
     "evalue": "name 'x_em' is not defined",
     "output_type": "error",
     "traceback": [
      "\u001b[1;31m---------------------------------------------------------------------------\u001b[0m",
      "\u001b[1;31mNameError\u001b[0m                                 Traceback (most recent call last)",
      "Cell \u001b[1;32mIn[77], line 1\u001b[0m\n\u001b[1;32m----> 1\u001b[0m x_em\u001b[38;5;241m.\u001b[39mshape\n",
      "\u001b[1;31mNameError\u001b[0m: name 'x_em' is not defined"
     ]
    }
   ],
   "source": [
    "x_em.shape"
   ]
  },
  {
   "cell_type": "markdown",
   "id": "lightweight-intent",
   "metadata": {},
   "source": [
    "## Averaging across tokens"
   ]
  },
  {
   "cell_type": "markdown",
   "id": "conceptual-crowd",
   "metadata": {},
   "source": [
    "![](images/Emb6.png)"
   ]
  },
  {
   "cell_type": "code",
   "execution_count": null,
   "id": "agreed-beast",
   "metadata": {},
   "outputs": [
    {
     "ename": "AttributeError",
     "evalue": "module 'tensorflow' has no attribute 'explain'",
     "output_type": "error",
     "traceback": [
      "\u001b[1;31m---------------------------------------------------------------------------\u001b[0m",
      "\u001b[1;31mAttributeError\u001b[0m                            Traceback (most recent call last)",
      "Cell \u001b[1;32mIn[80], line 1\u001b[0m\n\u001b[1;32m----> 1\u001b[0m \u001b[38;5;28;01mwith\u001b[39;00m tsensor\u001b[38;5;241m.\u001b[39mexplain(fontname\u001b[38;5;241m=\u001b[39m\u001b[38;5;124m'\u001b[39m\u001b[38;5;124mHack\u001b[39m\u001b[38;5;124m'\u001b[39m, dimfontname\u001b[38;5;241m=\u001b[39m\u001b[38;5;124m'\u001b[39m\u001b[38;5;124mHack\u001b[39m\u001b[38;5;124m'\u001b[39m):\n\u001b[0;32m      2\u001b[0m     z \u001b[38;5;241m=\u001b[39m GlobalAveragePooling1D()(x_em)\n",
      "\u001b[1;31mAttributeError\u001b[0m: module 'tensorflow' has no attribute 'explain'"
     ]
    }
   ],
   "source": [
    "with tsensor.explain(fontname='Hack', dimfontname='Hack'):\n",
    "    z = GlobalAveragePooling1D()(x_em)"
   ]
  },
  {
   "cell_type": "code",
   "execution_count": null,
   "id": "undefined-catering",
   "metadata": {},
   "outputs": [
    {
     "ename": "NameError",
     "evalue": "name 'z' is not defined",
     "output_type": "error",
     "traceback": [
      "\u001b[1;31m---------------------------------------------------------------------------\u001b[0m",
      "\u001b[1;31mNameError\u001b[0m                                 Traceback (most recent call last)",
      "Cell \u001b[1;32mIn[78], line 1\u001b[0m\n\u001b[1;32m----> 1\u001b[0m z\u001b[38;5;241m.\u001b[39mshape\n",
      "\u001b[1;31mNameError\u001b[0m: name 'z' is not defined"
     ]
    }
   ],
   "source": [
    "z.shape"
   ]
  },
  {
   "cell_type": "code",
   "execution_count": null,
   "id": "binary-scout",
   "metadata": {},
   "outputs": [],
   "source": []
  }
 ],
 "metadata": {
  "kernelspec": {
   "display_name": "Python 3",
   "language": "python",
   "name": "python3"
  },
  "language_info": {
   "codemirror_mode": {
    "name": "ipython",
    "version": 3
   },
   "file_extension": ".py",
   "mimetype": "text/x-python",
   "name": "python",
   "nbconvert_exporter": "python",
   "pygments_lexer": "ipython3",
   "version": "3.11.5"
  }
 },
 "nbformat": 4,
 "nbformat_minor": 5
}
