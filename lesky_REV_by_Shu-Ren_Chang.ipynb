{
 "cells": [
  {
   "cell_type": "markdown",
   "id": "shaped-norway",
   "metadata": {},
   "source": [
    "## Word-Sense Disambiguation"
   ]
  },
  {
   "cell_type": "code",
   "execution_count": 110,
   "id": "genetic-terror",
   "metadata": {},
   "outputs": [],
   "source": [
    "from nltk.corpus import wordnet as wn\n",
    "from nltk import wsd"
   ]
  },
  {
   "cell_type": "code",
   "execution_count": 111,
   "id": "adult-bangladesh",
   "metadata": {},
   "outputs": [],
   "source": [
    "X = 'The die is cast.'\n",
    "Y = 'Roll the die to get a 6.'\n",
    "Z = 'What is dead may never die.'"
   ]
  },
  {
   "cell_type": "code",
   "execution_count": 112,
   "id": "eeaa2aae",
   "metadata": {},
   "outputs": [],
   "source": [
    "A= 'Shu-Ren booked a flight to Taiwan.'\n",
    "B= \"Shu-Ren read a book yesterday.\"\n",
    "C= 'Shu-Ren planned to write a book chapter'"
   ]
  },
  {
   "cell_type": "code",
   "execution_count": 113,
   "id": "antique-burlington",
   "metadata": {},
   "outputs": [
    {
     "data": {
      "text/plain": [
       "[Synset('die.n.01'),\n",
       " Synset('die.n.02'),\n",
       " Synset('die.n.03'),\n",
       " Synset('die.v.01'),\n",
       " Synset('die.v.02'),\n",
       " Synset('die.v.03'),\n",
       " Synset('fail.v.04'),\n",
       " Synset('die.v.05'),\n",
       " Synset('die.v.06'),\n",
       " Synset('die.v.07'),\n",
       " Synset('die.v.08'),\n",
       " Synset('die.v.09'),\n",
       " Synset('die.v.10'),\n",
       " Synset('die.v.11')]"
      ]
     },
     "execution_count": 113,
     "metadata": {},
     "output_type": "execute_result"
    }
   ],
   "source": [
    "wn.synsets('die')"
   ]
  },
  {
   "cell_type": "code",
   "execution_count": 114,
   "id": "d71d0e2b",
   "metadata": {},
   "outputs": [
    {
     "data": {
      "text/plain": [
       "[Synset('book.n.01'),\n",
       " Synset('book.n.02'),\n",
       " Synset('record.n.05'),\n",
       " Synset('script.n.01'),\n",
       " Synset('ledger.n.01'),\n",
       " Synset('book.n.06'),\n",
       " Synset('book.n.07'),\n",
       " Synset('koran.n.01'),\n",
       " Synset('bible.n.01'),\n",
       " Synset('book.n.10'),\n",
       " Synset('book.n.11'),\n",
       " Synset('book.v.01'),\n",
       " Synset('reserve.v.04'),\n",
       " Synset('book.v.03'),\n",
       " Synset('book.v.04')]"
      ]
     },
     "execution_count": 114,
     "metadata": {},
     "output_type": "execute_result"
    }
   ],
   "source": [
    "wn.synsets(\"book\")"
   ]
  },
  {
   "cell_type": "code",
   "execution_count": 115,
   "id": "governing-montana",
   "metadata": {},
   "outputs": [
    {
     "data": {
      "text/plain": [
       "[Synset('die.n.01'), Synset('die.n.02'), Synset('die.n.03')]"
      ]
     },
     "execution_count": 115,
     "metadata": {},
     "output_type": "execute_result"
    }
   ],
   "source": [
    "wn.synsets('die', pos=wn.NOUN)"
   ]
  },
  {
   "cell_type": "code",
   "execution_count": 116,
   "id": "71653199",
   "metadata": {},
   "outputs": [
    {
     "data": {
      "text/plain": [
       "[Synset('book.n.01'),\n",
       " Synset('book.n.02'),\n",
       " Synset('record.n.05'),\n",
       " Synset('script.n.01'),\n",
       " Synset('ledger.n.01'),\n",
       " Synset('book.n.06'),\n",
       " Synset('book.n.07'),\n",
       " Synset('koran.n.01'),\n",
       " Synset('bible.n.01'),\n",
       " Synset('book.n.10'),\n",
       " Synset('book.n.11')]"
      ]
     },
     "execution_count": 116,
     "metadata": {},
     "output_type": "execute_result"
    }
   ],
   "source": [
    "wn.synsets (\"book\", pos=wn.NOUN)"
   ]
  },
  {
   "cell_type": "code",
   "execution_count": 117,
   "id": "located-bookmark",
   "metadata": {},
   "outputs": [
    {
     "name": "stdout",
     "output_type": "stream",
     "text": [
      "a small cube with 1 to 6 spots on the six faces; used in gambling to generate random numbers\n",
      "a device used for shaping metal\n",
      "a cutting tool that is fitted into a diestock and used for cutting male (external) screw threads on screws or bolts or pipes or rods\n"
     ]
    }
   ],
   "source": [
    "for syn in wn.synsets('die', pos=wn.NOUN):\n",
    "    print(syn.definition())"
   ]
  },
  {
   "cell_type": "code",
   "execution_count": 118,
   "id": "89f46ce7",
   "metadata": {},
   "outputs": [
    {
     "name": "stdout",
     "output_type": "stream",
     "text": [
      "engage for a performance\n",
      "arrange for and reserve (something for someone else) in advance\n",
      "record a charge in a police register\n",
      "register in a hotel booker\n"
     ]
    }
   ],
   "source": [
    "for syn in wn.synsets('book',  pos=wn.VERB):\n",
    "    print(syn.definition())"
   ]
  },
  {
   "cell_type": "code",
   "execution_count": 119,
   "id": "after-party",
   "metadata": {},
   "outputs": [
    {
     "name": "stdout",
     "output_type": "stream",
     "text": [
      "pass from physical life and lose all bodily attributes and functions necessary to sustain life\n",
      "suffer or face the pain of death\n",
      "be brought to or as if to the point of death by an intense emotion such as embarrassment, amusement, or shame\n",
      "stop operating or functioning\n",
      "feel indifferent towards\n",
      "languish as with love or desire\n",
      "cut or shape with a die\n",
      "to be on base at the end of an inning, of a player\n",
      "lose sparkle or bouquet\n",
      "disappear or come to an end\n",
      "suffer spiritual death; be damned (in the religious sense)\n"
     ]
    }
   ],
   "source": [
    "for syn in wn.synsets('die', pos=wn.VERB):\n",
    "    print(syn.definition())"
   ]
  },
  {
   "cell_type": "markdown",
   "id": "bacterial-effect",
   "metadata": {},
   "source": [
    "## Word-Sense Disambiguation with Lesk Algorithm"
   ]
  },
  {
   "cell_type": "code",
   "execution_count": 120,
   "id": "threaded-tourism",
   "metadata": {},
   "outputs": [
    {
     "name": "stdout",
     "output_type": "stream",
     "text": [
      "The die is cast.\n"
     ]
    },
    {
     "data": {
      "text/plain": [
       "Synset('die.v.07')"
      ]
     },
     "execution_count": 120,
     "metadata": {},
     "output_type": "execute_result"
    }
   ],
   "source": [
    "print(X)\n",
    "wsd.lesk(X.split(), 'die')"
   ]
  },
  {
   "cell_type": "code",
   "execution_count": 121,
   "id": "43e1fc34",
   "metadata": {},
   "outputs": [
    {
     "data": {
      "text/plain": [
       "'cut or shape with a die'"
      ]
     },
     "execution_count": 121,
     "metadata": {},
     "output_type": "execute_result"
    }
   ],
   "source": [
    "_.definition()"
   ]
  },
  {
   "cell_type": "code",
   "execution_count": 122,
   "id": "ce94c69b",
   "metadata": {},
   "outputs": [
    {
     "name": "stdout",
     "output_type": "stream",
     "text": [
      "Shu-Ren booked a flight to Taiwan.\n"
     ]
    },
    {
     "data": {
      "text/plain": [
       "Synset('script.n.01')"
      ]
     },
     "execution_count": 122,
     "metadata": {},
     "output_type": "execute_result"
    }
   ],
   "source": [
    "print(A)\n",
    "wsd.lesk(A.split(), \"book\")"
   ]
  },
  {
   "cell_type": "code",
   "execution_count": 123,
   "id": "fluid-cargo",
   "metadata": {},
   "outputs": [
    {
     "data": {
      "text/plain": [
       "'a written version of a play or other dramatic composition; used in preparing for a performance'"
      ]
     },
     "execution_count": 123,
     "metadata": {},
     "output_type": "execute_result"
    }
   ],
   "source": [
    "_.definition()"
   ]
  },
  {
   "cell_type": "code",
   "execution_count": 124,
   "id": "independent-melissa",
   "metadata": {},
   "outputs": [
    {
     "data": {
      "text/plain": [
       "'a cutting tool that is fitted into a diestock and used for cutting male (external) screw threads on screws or bolts or pipes or rods'"
      ]
     },
     "execution_count": 124,
     "metadata": {},
     "output_type": "execute_result"
    }
   ],
   "source": [
    "wsd.lesk(X.split(), 'die', pos=wn.NOUN).definition()"
   ]
  },
  {
   "cell_type": "code",
   "execution_count": 125,
   "id": "f62010d9",
   "metadata": {},
   "outputs": [
    {
     "data": {
      "text/plain": [
       "'a written version of a play or other dramatic composition; used in preparing for a performance'"
      ]
     },
     "execution_count": 125,
     "metadata": {},
     "output_type": "execute_result"
    }
   ],
   "source": [
    "wsd.lesk(A.split(), \"book\", pos=wn.NOUN).definition()"
   ]
  },
  {
   "cell_type": "code",
   "execution_count": 126,
   "id": "progressive-origin",
   "metadata": {},
   "outputs": [
    {
     "name": "stdout",
     "output_type": "stream",
     "text": [
      "Roll the die to get a 6.\n"
     ]
    },
    {
     "data": {
      "text/plain": [
       "'to be on base at the end of an inning, of a player'"
      ]
     },
     "execution_count": 126,
     "metadata": {},
     "output_type": "execute_result"
    }
   ],
   "source": [
    "print(Y)\n",
    "wsd.lesk(Y.split(), 'die').definition()"
   ]
  },
  {
   "cell_type": "code",
   "execution_count": 127,
   "id": "proof-while",
   "metadata": {},
   "outputs": [
    {
     "data": {
      "text/plain": [
       "'a small cube with 1 to 6 spots on the six faces; used in gambling to generate random numbers'"
      ]
     },
     "execution_count": 127,
     "metadata": {},
     "output_type": "execute_result"
    }
   ],
   "source": [
    "wsd.lesk(Y.split(), 'die', pos=wn.NOUN).definition()"
   ]
  },
  {
   "cell_type": "code",
   "execution_count": 128,
   "id": "middle-object",
   "metadata": {},
   "outputs": [
    {
     "name": "stdout",
     "output_type": "stream",
     "text": [
      "What is dead may never die.\n"
     ]
    },
    {
     "data": {
      "text/plain": [
       "'a cutting tool that is fitted into a diestock and used for cutting male (external) screw threads on screws or bolts or pipes or rods'"
      ]
     },
     "execution_count": 128,
     "metadata": {},
     "output_type": "execute_result"
    }
   ],
   "source": [
    "print(Z)\n",
    "wsd.lesk(Z.split(), 'die').definition()"
   ]
  },
  {
   "cell_type": "code",
   "execution_count": 129,
   "id": "organizational-joint",
   "metadata": {},
   "outputs": [
    {
     "data": {
      "text/plain": [
       "'stop operating or functioning'"
      ]
     },
     "execution_count": 129,
     "metadata": {},
     "output_type": "execute_result"
    }
   ],
   "source": [
    "wsd.lesk(Z.split(), 'die', pos=wn.VERB).definition()"
   ]
  },
  {
   "cell_type": "markdown",
   "id": "valuable-harbor",
   "metadata": {},
   "source": [
    "## Automatic POS Tagging + Lesk with spaCy"
   ]
  },
  {
   "cell_type": "code",
   "execution_count": 130,
   "id": "defensive-trailer",
   "metadata": {},
   "outputs": [
    {
     "name": "stdout",
     "output_type": "stream",
     "text": [
      "Requirement already satisfied: spacy in c:\\users\\isbe\\appdata\\local\\programs\\python\\python312\\lib\\site-packages (3.7.2)\n",
      "Requirement already satisfied: spacy-legacy<3.1.0,>=3.0.11 in c:\\users\\isbe\\appdata\\local\\programs\\python\\python312\\lib\\site-packages (from spacy) (3.0.12)\n",
      "Requirement already satisfied: spacy-loggers<2.0.0,>=1.0.0 in c:\\users\\isbe\\appdata\\local\\programs\\python\\python312\\lib\\site-packages (from spacy) (1.0.5)\n",
      "Requirement already satisfied: murmurhash<1.1.0,>=0.28.0 in c:\\users\\isbe\\appdata\\local\\programs\\python\\python312\\lib\\site-packages (from spacy) (1.0.10)\n",
      "Requirement already satisfied: cymem<2.1.0,>=2.0.2 in c:\\users\\isbe\\appdata\\local\\programs\\python\\python312\\lib\\site-packages (from spacy) (2.0.8)\n",
      "Requirement already satisfied: preshed<3.1.0,>=3.0.2 in c:\\users\\isbe\\appdata\\local\\programs\\python\\python312\\lib\\site-packages (from spacy) (3.0.9)\n",
      "Requirement already satisfied: thinc<8.3.0,>=8.1.8 in c:\\users\\isbe\\appdata\\local\\programs\\python\\python312\\lib\\site-packages (from spacy) (8.2.1)\n",
      "Requirement already satisfied: wasabi<1.2.0,>=0.9.1 in c:\\users\\isbe\\appdata\\local\\programs\\python\\python312\\lib\\site-packages (from spacy) (1.1.2)\n",
      "Requirement already satisfied: srsly<3.0.0,>=2.4.3 in c:\\users\\isbe\\appdata\\local\\programs\\python\\python312\\lib\\site-packages (from spacy) (2.4.8)\n",
      "Requirement already satisfied: catalogue<2.1.0,>=2.0.6 in c:\\users\\isbe\\appdata\\local\\programs\\python\\python312\\lib\\site-packages (from spacy) (2.0.10)\n",
      "Requirement already satisfied: weasel<0.4.0,>=0.1.0 in c:\\users\\isbe\\appdata\\local\\programs\\python\\python312\\lib\\site-packages (from spacy) (0.3.4)\n",
      "Requirement already satisfied: typer<0.10.0,>=0.3.0 in c:\\users\\isbe\\appdata\\local\\programs\\python\\python312\\lib\\site-packages (from spacy) (0.9.0)\n",
      "Requirement already satisfied: smart-open<7.0.0,>=5.2.1 in c:\\users\\isbe\\appdata\\local\\programs\\python\\python312\\lib\\site-packages (from spacy) (6.4.0)\n",
      "Requirement already satisfied: tqdm<5.0.0,>=4.38.0 in c:\\users\\isbe\\appdata\\local\\programs\\python\\python312\\lib\\site-packages (from spacy) (4.66.1)\n",
      "Requirement already satisfied: requests<3.0.0,>=2.13.0 in c:\\users\\isbe\\appdata\\local\\programs\\python\\python312\\lib\\site-packages (from spacy) (2.31.0)\n",
      "Requirement already satisfied: pydantic!=1.8,!=1.8.1,<3.0.0,>=1.7.4 in c:\\users\\isbe\\appdata\\local\\programs\\python\\python312\\lib\\site-packages (from spacy) (2.5.2)\n",
      "Requirement already satisfied: jinja2 in c:\\users\\isbe\\appdata\\local\\programs\\python\\python312\\lib\\site-packages (from spacy) (3.1.2)\n",
      "Requirement already satisfied: setuptools in c:\\users\\isbe\\appdata\\local\\programs\\python\\python312\\lib\\site-packages (from spacy) (69.0.2)\n",
      "Requirement already satisfied: packaging>=20.0 in c:\\users\\isbe\\appdata\\roaming\\python\\python312\\site-packages (from spacy) (23.2)\n",
      "Requirement already satisfied: langcodes<4.0.0,>=3.2.0 in c:\\users\\isbe\\appdata\\local\\programs\\python\\python312\\lib\\site-packages (from spacy) (3.3.0)\n",
      "Requirement already satisfied: numpy>=1.19.0 in c:\\users\\isbe\\appdata\\local\\programs\\python\\python312\\lib\\site-packages (from spacy) (1.26.2)\n",
      "Requirement already satisfied: annotated-types>=0.4.0 in c:\\users\\isbe\\appdata\\local\\programs\\python\\python312\\lib\\site-packages (from pydantic!=1.8,!=1.8.1,<3.0.0,>=1.7.4->spacy) (0.6.0)\n",
      "Requirement already satisfied: pydantic-core==2.14.5 in c:\\users\\isbe\\appdata\\local\\programs\\python\\python312\\lib\\site-packages (from pydantic!=1.8,!=1.8.1,<3.0.0,>=1.7.4->spacy) (2.14.5)\n",
      "Requirement already satisfied: typing-extensions>=4.6.1 in c:\\users\\isbe\\appdata\\local\\programs\\python\\python312\\lib\\site-packages (from pydantic!=1.8,!=1.8.1,<3.0.0,>=1.7.4->spacy) (4.9.0)\n",
      "Requirement already satisfied: charset-normalizer<4,>=2 in c:\\users\\isbe\\appdata\\local\\programs\\python\\python312\\lib\\site-packages (from requests<3.0.0,>=2.13.0->spacy) (3.3.2)\n",
      "Requirement already satisfied: idna<4,>=2.5 in c:\\users\\isbe\\appdata\\local\\programs\\python\\python312\\lib\\site-packages (from requests<3.0.0,>=2.13.0->spacy) (3.6)\n",
      "Requirement already satisfied: urllib3<3,>=1.21.1 in c:\\users\\isbe\\appdata\\local\\programs\\python\\python312\\lib\\site-packages (from requests<3.0.0,>=2.13.0->spacy) (2.1.0)\n",
      "Requirement already satisfied: certifi>=2017.4.17 in c:\\users\\isbe\\appdata\\local\\programs\\python\\python312\\lib\\site-packages (from requests<3.0.0,>=2.13.0->spacy) (2023.11.17)\n",
      "Requirement already satisfied: blis<0.8.0,>=0.7.8 in c:\\users\\isbe\\appdata\\local\\programs\\python\\python312\\lib\\site-packages (from thinc<8.3.0,>=8.1.8->spacy) (0.7.11)\n",
      "Requirement already satisfied: confection<1.0.0,>=0.0.1 in c:\\users\\isbe\\appdata\\local\\programs\\python\\python312\\lib\\site-packages (from thinc<8.3.0,>=8.1.8->spacy) (0.1.4)\n",
      "Requirement already satisfied: colorama in c:\\users\\isbe\\appdata\\roaming\\python\\python312\\site-packages (from tqdm<5.0.0,>=4.38.0->spacy) (0.4.6)\n",
      "Requirement already satisfied: click<9.0.0,>=7.1.1 in c:\\users\\isbe\\appdata\\local\\programs\\python\\python312\\lib\\site-packages (from typer<0.10.0,>=0.3.0->spacy) (8.1.7)\n",
      "Requirement already satisfied: cloudpathlib<0.17.0,>=0.7.0 in c:\\users\\isbe\\appdata\\local\\programs\\python\\python312\\lib\\site-packages (from weasel<0.4.0,>=0.1.0->spacy) (0.16.0)\n",
      "Requirement already satisfied: MarkupSafe>=2.0 in c:\\users\\isbe\\appdata\\local\\programs\\python\\python312\\lib\\site-packages (from jinja2->spacy) (2.1.3)\n",
      "Note: you may need to restart the kernel to use updated packages.\n"
     ]
    }
   ],
   "source": [
    "%pip install spacy"
   ]
  },
  {
   "cell_type": "code",
   "execution_count": 131,
   "id": "cellular-reflection",
   "metadata": {},
   "outputs": [],
   "source": [
    "from spacy.cli import download\n",
    "from spacy import load\n",
    "# download('en_core_web_sm')\n",
    "nlp = load('en_core_web_sm')"
   ]
  },
  {
   "cell_type": "code",
   "execution_count": 132,
   "id": "radical-melbourne",
   "metadata": {},
   "outputs": [],
   "source": [
    "import warnings\n",
    "\n",
    "POS_MAP = {\n",
    "    'VERB': wn.VERB,\n",
    "    'NOUN': wn.NOUN,\n",
    "    'PROPN': wn.NOUN\n",
    "    }\n",
    "\n",
    "\n",
    "def lesk(doc, word):\n",
    "    found = False\n",
    "    for token in doc:\n",
    "        if token.text == word:\n",
    "            word = token\n",
    "            found = True\n",
    "            break\n",
    "    if not found:\n",
    "        raise ValueError(f'Word \\\"{word}\\\" does not appear in the document: {doc.text}.')\n",
    "    pos = POS_MAP.get(word.pos_, False)\n",
    "    if not pos:\n",
    "        warnings.warn(f'POS tag for {word.text} not found in wordnet. Falling back to default Lesk behaviour.')\n",
    "    args = [c.text for c in doc], word.text\n",
    "    kwargs = dict(pos=pos)\n",
    "    return wsd.lesk(*args, **kwargs)"
   ]
  },
  {
   "cell_type": "code",
   "execution_count": 133,
   "id": "monetary-disaster",
   "metadata": {},
   "outputs": [],
   "source": [
    "doc = nlp('Roll the die to get a 6.')"
   ]
  },
  {
   "cell_type": "code",
   "execution_count": 134,
   "id": "surgical-chrome",
   "metadata": {},
   "outputs": [
    {
     "data": {
      "text/plain": [
       "Synset('die.n.01')"
      ]
     },
     "execution_count": 134,
     "metadata": {},
     "output_type": "execute_result"
    }
   ],
   "source": [
    "lesk(doc, 'die')"
   ]
  },
  {
   "cell_type": "code",
   "execution_count": 135,
   "id": "cordless-bankruptcy",
   "metadata": {},
   "outputs": [
    {
     "data": {
      "text/plain": [
       "'a small cube with 1 to 6 spots on the six faces; used in gambling to generate random numbers'"
      ]
     },
     "execution_count": 135,
     "metadata": {},
     "output_type": "execute_result"
    }
   ],
   "source": [
    "lesk(doc, 'die').definition()"
   ]
  },
  {
   "cell_type": "code",
   "execution_count": 136,
   "id": "excess-consultancy",
   "metadata": {},
   "outputs": [
    {
     "data": {
      "text/plain": [
       "\"a widely used search engine that uses text-matching techniques to find web pages that are important and relevant to a user's search\""
      ]
     },
     "execution_count": 136,
     "metadata": {},
     "output_type": "execute_result"
    }
   ],
   "source": [
    "lesk(nlp('I work at google.'), 'google').definition()"
   ]
  },
  {
   "cell_type": "code",
   "execution_count": 137,
   "id": "infectious-binary",
   "metadata": {},
   "outputs": [
    {
     "data": {
      "text/plain": [
       "'search the internet (for information) using the Google search engine'"
      ]
     },
     "execution_count": 137,
     "metadata": {},
     "output_type": "execute_result"
    }
   ],
   "source": [
    "lesk(nlp('I will google it.'), 'google').definition()"
   ]
  },
  {
   "cell_type": "code",
   "execution_count": 138,
   "id": "dd3b0362",
   "metadata": {},
   "outputs": [
    {
     "data": {
      "text/plain": [
       "'a person who holds Ph.D. degree (or the equivalent) from an academic institution'"
      ]
     },
     "execution_count": 138,
     "metadata": {},
     "output_type": "execute_result"
    }
   ],
   "source": [
    "lesk(nlp('My name is Dr. Shu-Ren Chang?'), 'Dr.').definition()"
   ]
  },
  {
   "cell_type": "code",
   "execution_count": 139,
   "id": "laughing-carolina",
   "metadata": {},
   "outputs": [
    {
     "data": {
      "text/plain": [
       "'the longest river of Asia; flows eastward from Tibet into the East China Sea near Shanghai'"
      ]
     },
     "execution_count": 139,
     "metadata": {},
     "output_type": "execute_result"
    }
   ],
   "source": [
    "lesk(nlp('My name is Dr. Shu-Ren Chang?'), 'Chang').definition()"
   ]
  },
  {
   "cell_type": "code",
   "execution_count": 140,
   "id": "002280b6",
   "metadata": {},
   "outputs": [
    {
     "name": "stderr",
     "output_type": "stream",
     "text": [
      "C:\\Users\\ISBE\\AppData\\Local\\Temp\\ipykernel_115984\\305229551.py:21: UserWarning: POS tag for Who not found in wordnet. Falling back to default Lesk behaviour.\n",
      "  warnings.warn(f'POS tag for {word.text} not found in wordnet. Falling back to default Lesk behaviour.')\n"
     ]
    },
    {
     "data": {
      "text/plain": [
       "'a United Nations agency to coordinate international health activities and to help governments improve health services'"
      ]
     },
     "execution_count": 140,
     "metadata": {},
     "output_type": "execute_result"
    }
   ],
   "source": [
    "lesk(nlp('Who is Dr. Shu-Ren Chang?'), 'Who').definition()"
   ]
  },
  {
   "cell_type": "code",
   "execution_count": 142,
   "id": "143e58ee",
   "metadata": {},
   "outputs": [],
   "source": [
    "doc = nlp('I have to book a flight')"
   ]
  },
  {
   "cell_type": "code",
   "execution_count": 145,
   "id": "5c116b46",
   "metadata": {},
   "outputs": [
    {
     "ename": "ValueError",
     "evalue": "Word \"bok\" does not appear in the document: I have to book a flight.",
     "output_type": "error",
     "traceback": [
      "\u001b[1;31m---------------------------------------------------------------------------\u001b[0m",
      "\u001b[1;31mValueError\u001b[0m                                Traceback (most recent call last)",
      "Cell \u001b[1;32mIn[145], line 1\u001b[0m\n\u001b[1;32m----> 1\u001b[0m \u001b[43mlesk\u001b[49m\u001b[43m(\u001b[49m\u001b[43mdoc\u001b[49m\u001b[43m,\u001b[49m\u001b[43m \u001b[49m\u001b[38;5;124;43m'\u001b[39;49m\u001b[38;5;124;43mbok\u001b[39;49m\u001b[38;5;124;43m'\u001b[39;49m\u001b[43m)\u001b[49m\n",
      "Cell \u001b[1;32mIn[132], line 18\u001b[0m, in \u001b[0;36mlesk\u001b[1;34m(doc, word)\u001b[0m\n\u001b[0;32m     16\u001b[0m         \u001b[38;5;28;01mbreak\u001b[39;00m\n\u001b[0;32m     17\u001b[0m \u001b[38;5;28;01mif\u001b[39;00m \u001b[38;5;129;01mnot\u001b[39;00m found:\n\u001b[1;32m---> 18\u001b[0m     \u001b[38;5;28;01mraise\u001b[39;00m \u001b[38;5;167;01mValueError\u001b[39;00m(\u001b[38;5;124mf\u001b[39m\u001b[38;5;124m'\u001b[39m\u001b[38;5;124mWord \u001b[39m\u001b[38;5;130;01m\\\"\u001b[39;00m\u001b[38;5;132;01m{\u001b[39;00mword\u001b[38;5;132;01m}\u001b[39;00m\u001b[38;5;130;01m\\\"\u001b[39;00m\u001b[38;5;124m does not appear in the document: \u001b[39m\u001b[38;5;132;01m{\u001b[39;00mdoc\u001b[38;5;241m.\u001b[39mtext\u001b[38;5;132;01m}\u001b[39;00m\u001b[38;5;124m.\u001b[39m\u001b[38;5;124m'\u001b[39m)\n\u001b[0;32m     19\u001b[0m pos \u001b[38;5;241m=\u001b[39m POS_MAP\u001b[38;5;241m.\u001b[39mget(word\u001b[38;5;241m.\u001b[39mpos_, \u001b[38;5;28;01mFalse\u001b[39;00m)\n\u001b[0;32m     20\u001b[0m \u001b[38;5;28;01mif\u001b[39;00m \u001b[38;5;129;01mnot\u001b[39;00m pos:\n",
      "\u001b[1;31mValueError\u001b[0m: Word \"bok\" does not appear in the document: I have to book a flight."
     ]
    }
   ],
   "source": [
    "lesk(doc, 'bok')"
   ]
  },
  {
   "cell_type": "code",
   "execution_count": 146,
   "id": "8b113242",
   "metadata": {},
   "outputs": [
    {
     "ename": "ValueError",
     "evalue": "Word \"Shu-Ren\" does not appear in the document: I have to book a flight.",
     "output_type": "error",
     "traceback": [
      "\u001b[1;31m---------------------------------------------------------------------------\u001b[0m",
      "\u001b[1;31mValueError\u001b[0m                                Traceback (most recent call last)",
      "Cell \u001b[1;32mIn[146], line 1\u001b[0m\n\u001b[1;32m----> 1\u001b[0m \u001b[43mlesk\u001b[49m\u001b[43m(\u001b[49m\u001b[43mdoc\u001b[49m\u001b[43m,\u001b[49m\u001b[43m \u001b[49m\u001b[38;5;124;43m'\u001b[39;49m\u001b[38;5;124;43mShu-Ren\u001b[39;49m\u001b[38;5;124;43m'\u001b[39;49m\u001b[43m)\u001b[49m\n",
      "Cell \u001b[1;32mIn[132], line 18\u001b[0m, in \u001b[0;36mlesk\u001b[1;34m(doc, word)\u001b[0m\n\u001b[0;32m     16\u001b[0m         \u001b[38;5;28;01mbreak\u001b[39;00m\n\u001b[0;32m     17\u001b[0m \u001b[38;5;28;01mif\u001b[39;00m \u001b[38;5;129;01mnot\u001b[39;00m found:\n\u001b[1;32m---> 18\u001b[0m     \u001b[38;5;28;01mraise\u001b[39;00m \u001b[38;5;167;01mValueError\u001b[39;00m(\u001b[38;5;124mf\u001b[39m\u001b[38;5;124m'\u001b[39m\u001b[38;5;124mWord \u001b[39m\u001b[38;5;130;01m\\\"\u001b[39;00m\u001b[38;5;132;01m{\u001b[39;00mword\u001b[38;5;132;01m}\u001b[39;00m\u001b[38;5;130;01m\\\"\u001b[39;00m\u001b[38;5;124m does not appear in the document: \u001b[39m\u001b[38;5;132;01m{\u001b[39;00mdoc\u001b[38;5;241m.\u001b[39mtext\u001b[38;5;132;01m}\u001b[39;00m\u001b[38;5;124m.\u001b[39m\u001b[38;5;124m'\u001b[39m)\n\u001b[0;32m     19\u001b[0m pos \u001b[38;5;241m=\u001b[39m POS_MAP\u001b[38;5;241m.\u001b[39mget(word\u001b[38;5;241m.\u001b[39mpos_, \u001b[38;5;28;01mFalse\u001b[39;00m)\n\u001b[0;32m     20\u001b[0m \u001b[38;5;28;01mif\u001b[39;00m \u001b[38;5;129;01mnot\u001b[39;00m pos:\n",
      "\u001b[1;31mValueError\u001b[0m: Word \"Shu-Ren\" does not appear in the document: I have to book a flight."
     ]
    }
   ],
   "source": [
    "lesk(doc, 'Shu-Ren')"
   ]
  },
  {
   "cell_type": "code",
   "execution_count": 147,
   "id": "61cb93fb",
   "metadata": {},
   "outputs": [
    {
     "data": {
      "text/plain": [
       "'register in a hotel booker'"
      ]
     },
     "execution_count": 147,
     "metadata": {},
     "output_type": "execute_result"
    }
   ],
   "source": [
    "lesk(doc, 'book').definition()"
   ]
  },
  {
   "cell_type": "code",
   "execution_count": 148,
   "id": "28735cc5",
   "metadata": {},
   "outputs": [],
   "source": [
    "doc = nlp('I am reading a book.')"
   ]
  },
  {
   "cell_type": "code",
   "execution_count": 149,
   "id": "daae55a8",
   "metadata": {},
   "outputs": [
    {
     "data": {
      "text/plain": [
       "'a written version of a play or other dramatic composition; used in preparing for a performance'"
      ]
     },
     "execution_count": 149,
     "metadata": {},
     "output_type": "execute_result"
    }
   ],
   "source": [
    "lesk(doc, 'book').definition()"
   ]
  },
  {
   "cell_type": "code",
   "execution_count": 159,
   "id": "3c891316",
   "metadata": {},
   "outputs": [],
   "source": [
    "doc1=doc"
   ]
  },
  {
   "cell_type": "code",
   "execution_count": 160,
   "id": "e32e4bb3",
   "metadata": {},
   "outputs": [],
   "source": [
    "doc1 = nlp('Please book a flight for me')"
   ]
  },
  {
   "cell_type": "code",
   "execution_count": 161,
   "id": "b8c3acce",
   "metadata": {},
   "outputs": [
    {
     "data": {
      "text/plain": [
       "'engage for a performance'"
      ]
     },
     "execution_count": 161,
     "metadata": {},
     "output_type": "execute_result"
    }
   ],
   "source": [
    "lesk(doc1, 'book').definition()"
   ]
  }
 ],
 "metadata": {
  "kernelspec": {
   "display_name": "Python 3",
   "language": "python",
   "name": "python3"
  },
  "language_info": {
   "codemirror_mode": {
    "name": "ipython",
    "version": 3
   },
   "file_extension": ".py",
   "mimetype": "text/x-python",
   "name": "python",
   "nbconvert_exporter": "python",
   "pygments_lexer": "ipython3",
   "version": "3.12.0"
  }
 },
 "nbformat": 4,
 "nbformat_minor": 5
}
